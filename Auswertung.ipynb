{
 "cells": [
  {
   "cell_type": "code",
   "execution_count": 1,
   "metadata": {},
   "outputs": [],
   "source": [
    "import pandas as pd\n",
    "import numpy as np\n",
    "import matplotlib.pyplot as plt\n",
    "from ipywidgets import interact, widgets\n",
    "\n",
    "plt.rcParams.update({\n",
    "    \"text.usetex\": True,\n",
    "    \"font.family\": \"serif\",\n",
    "    \"font.size\": 11,\n",
    "    \"font.serif\": [\"Computer Modern Roman\"],\n",
    "    \"figure.figsize\": (15,5)\n",
    "})"
   ]
  },
  {
   "cell_type": "code",
   "execution_count": 2,
   "metadata": {},
   "outputs": [],
   "source": [
    "pilatus = pd.read_csv(\"order111064\\order_111064_data.txt\", sep=\";\")\n"
   ]
  },
  {
   "cell_type": "markdown",
   "metadata": {},
   "source": [
    "# Aufbereitung der Daten"
   ]
  },
  {
   "cell_type": "code",
   "execution_count": 3,
   "metadata": {},
   "outputs": [],
   "source": [
    "pilatus['time'] = pd.to_datetime(pilatus['time'], format='%Y%m%d').dt.strftime('%Y.%m.%d')"
   ]
  },
  {
   "cell_type": "code",
   "execution_count": 4,
   "metadata": {},
   "outputs": [
    {
     "data": {
      "text/html": [
       "<div>\n",
       "<style scoped>\n",
       "    .dataframe tbody tr th:only-of-type {\n",
       "        vertical-align: middle;\n",
       "    }\n",
       "\n",
       "    .dataframe tbody tr th {\n",
       "        vertical-align: top;\n",
       "    }\n",
       "\n",
       "    .dataframe thead th {\n",
       "        text-align: right;\n",
       "    }\n",
       "</style>\n",
       "<table border=\"1\" class=\"dataframe\">\n",
       "  <thead>\n",
       "    <tr style=\"text-align: right;\">\n",
       "      <th></th>\n",
       "      <th>Station</th>\n",
       "      <th>Datum</th>\n",
       "      <th>Temperatur Tagesmaximum [°C]</th>\n",
       "      <th>Temperatur Tagesminimum [°C]</th>\n",
       "      <th>Temperatur Tagesmittel [°C]</th>\n",
       "      <th>Niederschlag Tagessumme [mm]</th>\n",
       "    </tr>\n",
       "  </thead>\n",
       "  <tbody>\n",
       "    <tr>\n",
       "      <th>0</th>\n",
       "      <td>PIL</td>\n",
       "      <td>1981.01.01</td>\n",
       "      <td>-0.9</td>\n",
       "      <td>-11.4</td>\n",
       "      <td>-7.4</td>\n",
       "      <td>11.3</td>\n",
       "    </tr>\n",
       "    <tr>\n",
       "      <th>1</th>\n",
       "      <td>PIL</td>\n",
       "      <td>1981.01.02</td>\n",
       "      <td>-4.2</td>\n",
       "      <td>-11.8</td>\n",
       "      <td>-8.9</td>\n",
       "      <td>30.3</td>\n",
       "    </tr>\n",
       "    <tr>\n",
       "      <th>2</th>\n",
       "      <td>PIL</td>\n",
       "      <td>1981.01.03</td>\n",
       "      <td>0.5</td>\n",
       "      <td>-7.1</td>\n",
       "      <td>-3.4</td>\n",
       "      <td>40.8</td>\n",
       "    </tr>\n",
       "    <tr>\n",
       "      <th>3</th>\n",
       "      <td>PIL</td>\n",
       "      <td>1981.01.04</td>\n",
       "      <td>-1.6</td>\n",
       "      <td>-13.4</td>\n",
       "      <td>-6.2</td>\n",
       "      <td>65.3</td>\n",
       "    </tr>\n",
       "    <tr>\n",
       "      <th>4</th>\n",
       "      <td>PIL</td>\n",
       "      <td>1981.01.05</td>\n",
       "      <td>-11.0</td>\n",
       "      <td>-13.2</td>\n",
       "      <td>-12.2</td>\n",
       "      <td>0.5</td>\n",
       "    </tr>\n",
       "    <tr>\n",
       "      <th>...</th>\n",
       "      <td>...</td>\n",
       "      <td>...</td>\n",
       "      <td>...</td>\n",
       "      <td>...</td>\n",
       "      <td>...</td>\n",
       "      <td>...</td>\n",
       "    </tr>\n",
       "    <tr>\n",
       "      <th>15426</th>\n",
       "      <td>PIL</td>\n",
       "      <td>2023.03.28</td>\n",
       "      <td>1.8</td>\n",
       "      <td>-11.0</td>\n",
       "      <td>-5.1</td>\n",
       "      <td>1.3</td>\n",
       "    </tr>\n",
       "    <tr>\n",
       "      <th>15427</th>\n",
       "      <td>PIL</td>\n",
       "      <td>2023.03.29</td>\n",
       "      <td>4.9</td>\n",
       "      <td>-2.5</td>\n",
       "      <td>2.1</td>\n",
       "      <td>0.9</td>\n",
       "    </tr>\n",
       "    <tr>\n",
       "      <th>15428</th>\n",
       "      <td>PIL</td>\n",
       "      <td>2023.03.30</td>\n",
       "      <td>6.1</td>\n",
       "      <td>0.2</td>\n",
       "      <td>2.7</td>\n",
       "      <td>1.3</td>\n",
       "    </tr>\n",
       "    <tr>\n",
       "      <th>15429</th>\n",
       "      <td>PIL</td>\n",
       "      <td>2023.03.31</td>\n",
       "      <td>2.8</td>\n",
       "      <td>-3.8</td>\n",
       "      <td>-0.7</td>\n",
       "      <td>13.2</td>\n",
       "    </tr>\n",
       "    <tr>\n",
       "      <th>15430</th>\n",
       "      <td>PIL</td>\n",
       "      <td>2023.04.01</td>\n",
       "      <td>-1.4</td>\n",
       "      <td>-4.7</td>\n",
       "      <td>-3.5</td>\n",
       "      <td>8.0</td>\n",
       "    </tr>\n",
       "  </tbody>\n",
       "</table>\n",
       "<p>15431 rows × 6 columns</p>\n",
       "</div>"
      ],
      "text/plain": [
       "      Station       Datum  Temperatur Tagesmaximum [°C]  \\\n",
       "0         PIL  1981.01.01                          -0.9   \n",
       "1         PIL  1981.01.02                          -4.2   \n",
       "2         PIL  1981.01.03                           0.5   \n",
       "3         PIL  1981.01.04                          -1.6   \n",
       "4         PIL  1981.01.05                         -11.0   \n",
       "...       ...         ...                           ...   \n",
       "15426     PIL  2023.03.28                           1.8   \n",
       "15427     PIL  2023.03.29                           4.9   \n",
       "15428     PIL  2023.03.30                           6.1   \n",
       "15429     PIL  2023.03.31                           2.8   \n",
       "15430     PIL  2023.04.01                          -1.4   \n",
       "\n",
       "       Temperatur Tagesminimum [°C]  Temperatur Tagesmittel [°C]  \\\n",
       "0                             -11.4                         -7.4   \n",
       "1                             -11.8                         -8.9   \n",
       "2                              -7.1                         -3.4   \n",
       "3                             -13.4                         -6.2   \n",
       "4                             -13.2                        -12.2   \n",
       "...                             ...                          ...   \n",
       "15426                         -11.0                         -5.1   \n",
       "15427                          -2.5                          2.1   \n",
       "15428                           0.2                          2.7   \n",
       "15429                          -3.8                         -0.7   \n",
       "15430                          -4.7                         -3.5   \n",
       "\n",
       "      Niederschlag Tagessumme [mm]  \n",
       "0                             11.3  \n",
       "1                             30.3  \n",
       "2                             40.8  \n",
       "3                             65.3  \n",
       "4                              0.5  \n",
       "...                            ...  \n",
       "15426                          1.3  \n",
       "15427                          0.9  \n",
       "15428                          1.3  \n",
       "15429                         13.2  \n",
       "15430                          8.0  \n",
       "\n",
       "[15431 rows x 6 columns]"
      ]
     },
     "execution_count": 4,
     "metadata": {},
     "output_type": "execute_result"
    }
   ],
   "source": [
    "columnsname_pilatus = ['Station','Datum','Temperatur Tagesmaximum [°C]','Temperatur Tagesminimum [°C]','Temperatur Tagesmittel [°C]','Niederschlag Tagessumme [mm]']\n",
    "pilatus.columns = columnsname_pilatus\n",
    "\n",
    "pilatus"
   ]
  },
  {
   "cell_type": "code",
   "execution_count": null,
   "metadata": {},
   "outputs": [],
   "source": []
  },
  {
   "cell_type": "markdown",
   "metadata": {},
   "source": [
    "## Entfernung der nicht vorhandenen Messungen"
   ]
  },
  {
   "cell_type": "code",
   "execution_count": 5,
   "metadata": {},
   "outputs": [
    {
     "data": {
      "text/plain": [
       "Station                         0\n",
       "Datum                           0\n",
       "Temperatur Tagesmaximum [°C]    0\n",
       "Temperatur Tagesminimum [°C]    0\n",
       "Temperatur Tagesmittel [°C]     0\n",
       "Niederschlag Tagessumme [mm]    0\n",
       "dtype: int64"
      ]
     },
     "execution_count": 5,
     "metadata": {},
     "output_type": "execute_result"
    }
   ],
   "source": [
    "pilatus = pilatus.replace('-', np.nan)\n",
    "pilatus.dropna(inplace=True)\n",
    "pilatus.isna().sum()"
   ]
  },
  {
   "cell_type": "code",
   "execution_count": 6,
   "metadata": {},
   "outputs": [],
   "source": [
    "pilatus['Niederschlag Tagessumme [mm]'] = pilatus['Niederschlag Tagessumme [mm]'].astype('float')"
   ]
  },
  {
   "cell_type": "code",
   "execution_count": 7,
   "metadata": {},
   "outputs": [
    {
     "data": {
      "text/plain": [
       "Station                          object\n",
       "Datum                            object\n",
       "Temperatur Tagesmaximum [°C]    float64\n",
       "Temperatur Tagesminimum [°C]    float64\n",
       "Temperatur Tagesmittel [°C]     float64\n",
       "Niederschlag Tagessumme [mm]    float64\n",
       "dtype: object"
      ]
     },
     "execution_count": 7,
     "metadata": {},
     "output_type": "execute_result"
    }
   ],
   "source": [
    "pilatus.dtypes"
   ]
  },
  {
   "attachments": {},
   "cell_type": "markdown",
   "metadata": {},
   "source": [
    "## Schneefall\n",
    "\n",
    "Als Faustregel gilt:\n",
    "\n",
    "$$Niederschlag * 10 = Schneehöhe$$\n",
    "\n",
    "Dazu muss die Tagesmitteltemperatur $\\leq0$ sein."
   ]
  },
  {
   "cell_type": "code",
   "execution_count": 8,
   "metadata": {},
   "outputs": [],
   "source": [
    "pilatus['Schneefall [cm]']  = np.where(pilatus['Temperatur Tagesmittel [°C]']<=0, pilatus['Niederschlag Tagessumme [mm]'],0)"
   ]
  },
  {
   "cell_type": "code",
   "execution_count": 9,
   "metadata": {},
   "outputs": [],
   "source": [
    "pilatus['Datum'] = pd.to_datetime(pilatus['Datum'], format='%Y.%m.%d')"
   ]
  },
  {
   "cell_type": "code",
   "execution_count": 15,
   "metadata": {},
   "outputs": [
    {
     "data": {
      "application/vnd.jupyter.widget-view+json": {
       "model_id": "5c57a51c6bac4fa99e13b6f49be0f9d6",
       "version_major": 2,
       "version_minor": 0
      },
      "text/plain": [
       "interactive(children=(DatePicker(value=Timestamp('2023-03-01 00:00:00'), description='start_date', step=1), Da…"
      ]
     },
     "metadata": {},
     "output_type": "display_data"
    },
    {
     "data": {
      "text/plain": [
       "<function __main__.plot_schneehoehe(start_date, end_date)>"
      ]
     },
     "execution_count": 15,
     "metadata": {},
     "output_type": "execute_result"
    },
    {
     "name": "stderr",
     "output_type": "stream",
     "text": [
      "c:\\Users\\Pascal Gitz\\anaconda3\\envs\\engineering\\lib\\site-packages\\traitlets\\traitlets.py:714: FutureWarning: Comparison of Timestamp with datetime.date is deprecated in order to match the standard library behavior. In a future version these will be considered non-comparable. Use 'ts == pd.Timestamp(date)' or 'ts.date() == date' instead.\n",
      "  silent = bool(old_value == new_value)\n"
     ]
    }
   ],
   "source": [
    "def plot_schneehoehe(start_date, end_date):\n",
    "    start_date=pd.to_datetime(start_date)\n",
    "    end_date = pd.to_datetime(end_date)\n",
    "\n",
    "    mask = (pilatus['Datum'] >= start_date) & (pilatus['Datum'] <= end_date)\n",
    "    data = pilatus.loc[mask]\n",
    "    plt.bar(data['Datum'], data['Schneefall [cm]'])\n",
    "    plt.title(f'Schneefall in [cm] von {str(start_date)[0:10]} bis {str(end_date)[0:10]}')\n",
    "    plt.xticks(data['Datum'],rotation=45)\n",
    "    plt.grid()\n",
    "    plt.show()\n",
    "\n",
    "\n",
    "interact(plot_schneehoehe,\n",
    "         start_date = widgets.DatePicker(value=pd.to_datetime('2023-03-01')),\n",
    "         end_date =widgets.DatePicker(value=pd.to_datetime('2023-04-01')),\n",
    "         )\n"
   ]
  },
  {
   "cell_type": "code",
   "execution_count": null,
   "metadata": {},
   "outputs": [],
   "source": []
  }
 ],
 "metadata": {
  "kernelspec": {
   "display_name": "engineering",
   "language": "python",
   "name": "python3"
  },
  "language_info": {
   "codemirror_mode": {
    "name": "ipython",
    "version": 3
   },
   "file_extension": ".py",
   "mimetype": "text/x-python",
   "name": "python",
   "nbconvert_exporter": "python",
   "pygments_lexer": "ipython3",
   "version": "3.10.10"
  },
  "orig_nbformat": 4
 },
 "nbformat": 4,
 "nbformat_minor": 2
}
